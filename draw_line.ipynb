{
 "cells": [
  {
   "cell_type": "code",
   "execution_count": 38,
   "metadata": {},
   "outputs": [],
   "source": [
    "#draw line arrowedLine,rectangle,circle,putText\n",
    "import cv2 as cv"
   ]
  },
  {
   "cell_type": "code",
   "execution_count": 39,
   "metadata": {},
   "outputs": [],
   "source": [
    "img=cv.imread('Lenna.png')\n",
    "cv.line(img,(0,0),(255,255),(147,96,47),10)#cv.line(image_name,start_location,end_location,color,thinkness)\n",
    "cv.arrowedLine(img,(0,255),(255,255),(0,255,0),10)#arrowedLine draw arrow line\n",
    "cv.rectangle(img,(210,210),(390,390),(0,0,255),5)\n",
    "cv.circle(img,(250,250),120,(0,255,0),5)\n",
    "font=cv.FONT_HERSHEY_SIMPLEX #font style \n",
    "img=cv.putText(img,'OpenCv',(255,255),font,2,(0,255,255),4,cv.LINE_AA)#write text on image\n",
    "cv.imshow('Image',img)\n",
    "cv.waitKey(0)\n",
    "cv.destroyAllWindows()"
   ]
  },
  {
   "cell_type": "code",
   "execution_count": null,
   "metadata": {},
   "outputs": [],
   "source": []
  },
  {
   "cell_type": "code",
   "execution_count": null,
   "metadata": {},
   "outputs": [],
   "source": []
  }
 ],
 "metadata": {
  "kernelspec": {
   "display_name": "Python 3",
   "language": "python",
   "name": "python3"
  },
  "language_info": {
   "codemirror_mode": {
    "name": "ipython",
    "version": 3
   },
   "file_extension": ".py",
   "mimetype": "text/x-python",
   "name": "python",
   "nbconvert_exporter": "python",
   "pygments_lexer": "ipython3",
   "version": "3.8.6"
  }
 },
 "nbformat": 4,
 "nbformat_minor": 4
}
