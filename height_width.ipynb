{
 "cells": [
  {
   "cell_type": "code",
   "execution_count": 9,
   "metadata": {},
   "outputs": [],
   "source": [
    "import cv2 as cv"
   ]
  },
  {
   "cell_type": "code",
   "execution_count": 11,
   "metadata": {},
   "outputs": [
    {
     "name": "stdout",
     "output_type": "stream",
     "text": [
      "True\n",
      "[[[ 65  77  96]\n",
      "  [ 63  71  94]\n",
      "  [ 63  69  93]\n",
      "  ...\n",
      "  [ 80  70  90]\n",
      "  [ 78  69  95]\n",
      "  [ 76  66  95]]\n",
      "\n",
      " [[ 68  75  95]\n",
      "  [ 67  73  96]\n",
      "  [ 67  70  95]\n",
      "  ...\n",
      "  [ 80  70  90]\n",
      "  [ 78  69  94]\n",
      "  [ 75  67  93]]\n",
      "\n",
      " [[ 67  73  96]\n",
      "  [ 69  75  98]\n",
      "  [ 71  74  99]\n",
      "  ...\n",
      "  [ 80  72  94]\n",
      "  [ 79  71  97]\n",
      "  [ 71  64  93]]\n",
      "\n",
      " ...\n",
      "\n",
      " [[ 90  50 100]\n",
      "  [ 87  46  99]\n",
      "  [ 84  42  97]\n",
      "  ...\n",
      "  [ 11  11  24]\n",
      "  [ 13  14  24]\n",
      "  [ 11  12  22]]\n",
      "\n",
      " [[ 88  49 102]\n",
      "  [ 87  47 102]\n",
      "  [ 85  45 102]\n",
      "  ...\n",
      "  [ 13  13  26]\n",
      "  [ 14  15  25]\n",
      "  [ 11  12  22]]\n",
      "\n",
      " [[ 89  49 106]\n",
      "  [ 87  47 104]\n",
      "  [ 86  45 104]\n",
      "  ...\n",
      "  [ 14  14  27]\n",
      "  [ 14  15  25]\n",
      "  [ 13  14  24]]]\n",
      "width= 640.0\n",
      "height= 480.0\n"
     ]
    }
   ],
   "source": [
    "cap=cv.VideoCapture(0)\n",
    "while (cap.isOpened()):\n",
    "    ret,frame=cap.read()\n",
    "    print(ret)\n",
    "    print(frame)\n",
    "    print('width=',cap.get(cv.CAP_PROP_FRAME_WIDTH))\n",
    "    print('height=',cap.get(cv.CAP_PROP_FRAME_HEIGHT))\n",
    "    cv.imshow('frame',frame)\n",
    "    if(cv.waitKey(0)==ord('q')):\n",
    "        break\n",
    "cap.release()\n",
    "cv.destroyAllWindows()"
   ]
  },
  {
   "cell_type": "code",
   "execution_count": null,
   "metadata": {},
   "outputs": [],
   "source": []
  }
 ],
 "metadata": {
  "kernelspec": {
   "display_name": "Python 3",
   "language": "python",
   "name": "python3"
  },
  "language_info": {
   "codemirror_mode": {
    "name": "ipython",
    "version": 3
   },
   "file_extension": ".py",
   "mimetype": "text/x-python",
   "name": "python",
   "nbconvert_exporter": "python",
   "pygments_lexer": "ipython3",
   "version": "3.8.6"
  }
 },
 "nbformat": 4,
 "nbformat_minor": 4
}
