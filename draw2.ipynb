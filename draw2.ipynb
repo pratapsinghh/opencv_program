{
 "cells": [
  {
   "cell_type": "code",
   "execution_count": 33,
   "metadata": {},
   "outputs": [],
   "source": [
    "import numpy as np\n",
    "import time\n",
    "import cv2 as cv\n",
    "image=np.zeros([512,712,4],np.uint8)\n",
    "for i in range(0,100):\n",
    "    ret=cv.rectangle(image,(i+40,i+40),(150+i,150+i),(0+i,90+i,10+i),4)\n",
    "    #print(cv.imshow('image',image))\n",
    "    time.sleep(.0003)\n",
    "for i in range(0,200):\n",
    "    ret=cv.rectangle(image,(200,200),(150+i,150+i),(100+i,2+i,10+i),4)\n",
    "    #print(cv.imshow('image',image))\n",
    "    time.sleep(.0003)\n",
    "cv.imshow('Image',image)\n",
    "cv.waitKey(0)\n",
    "cv.destroyAllWindows()"
   ]
  },
  {
   "cell_type": "markdown",
   "metadata": {},
   "source": []
  },
  {
   "cell_type": "code",
   "execution_count": null,
   "metadata": {},
   "outputs": [],
   "source": []
  },
  {
   "cell_type": "code",
   "execution_count": null,
   "metadata": {},
   "outputs": [],
   "source": []
  }
 ],
 "metadata": {
  "kernelspec": {
   "display_name": "Python 3",
   "language": "python",
   "name": "python3"
  },
  "language_info": {
   "codemirror_mode": {
    "name": "ipython",
    "version": 3
   },
   "file_extension": ".py",
   "mimetype": "text/x-python",
   "name": "python",
   "nbconvert_exporter": "python",
   "pygments_lexer": "ipython3",
   "version": "3.8.6"
  }
 },
 "nbformat": 4,
 "nbformat_minor": 4
}
