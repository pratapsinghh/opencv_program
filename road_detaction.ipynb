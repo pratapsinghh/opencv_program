{
 "cells": [
  {
   "cell_type": "code",
   "execution_count": 1,
   "metadata": {},
   "outputs": [],
   "source": [
    "import cv2 as cv\n",
    "import numpy as np\n",
    "import matplotlib.pyplot as plt"
   ]
  },
  {
   "cell_type": "code",
   "execution_count": 2,
   "metadata": {},
   "outputs": [],
   "source": [
    "def resion(image):\n",
    "    height=image.shape[0]\n",
    "    polygon=np.array([[(200,height),(1100,height),(550,250)]])\n",
    "    mask=np.zeros_like(image)\n",
    "    cv.fillPoly(mask,polygon,255)\n",
    "    masked=cv.bitwise_and(image,mask)\n",
    "    return masked"
   ]
  },
  {
   "cell_type": "code",
   "execution_count": 3,
   "metadata": {},
   "outputs": [],
   "source": [
    "def canny(image):\n",
    "    gray=cv.cvtColor(image,cv.COLOR_BGR2GRAY)\n",
    "    blurr=cv.GaussianBlur(gray,(5,5),0)\n",
    "    canny=cv.Canny(blurr,50,150)\n",
    "    return canny"
   ]
  },
  {
   "cell_type": "code",
   "execution_count": 4,
   "metadata": {},
   "outputs": [],
   "source": [
    "def display_line(image,line):\n",
    "    line_image=np.zeros_like(image)\n",
    "    if line is not None:\n",
    "        for x1,y1,x2,y2 in line:\n",
    "            cv.line(line_image,(x1,y1),(x2,y2),(255,0,0),5)\n",
    "    return line_image\n",
    "    "
   ]
  },
  {
   "cell_type": "code",
   "execution_count": 5,
   "metadata": {},
   "outputs": [],
   "source": [
    "def averaged_slop_intercept(image,line):\n",
    "    left_fit=[]\n",
    "    right_fit=[]\n",
    "    if line is not None:\n",
    "        for lines in line:\n",
    "            x1,y1,x2,y2=lines.reshape(4)\n",
    "            parameter=np.polyfit((x1,x2),(y1,y2),1)\n",
    "            slope=parameter[0]\n",
    "            intercept=parameter[1]\n",
    "            if slope<0:\n",
    "                left_fit.append((slope,intercept))\n",
    "            else:\n",
    "                right_fit.append((slope,intercept))\n",
    "    left_fit_avarage=np.average(left_fit,axis=0)\n",
    "    right_fit_avarage=np.average(right_fit,axis=0)\n",
    "    left_line=make_coordinates(image,left_fit_avarage)\n",
    "    right_line=make_coordinates(image,right_fit_avarage)\n",
    "    return np.array([left_line,right_line])"
   ]
  },
  {
   "cell_type": "code",
   "execution_count": 6,
   "metadata": {},
   "outputs": [],
   "source": [
    "def make_coordinates(image,line_parameter):\n",
    "    try:\n",
    "        slope, intercept = line_parameter\n",
    "    except TypeError:\n",
    "        slope, intercept = 0.001, 0 \n",
    "    y1=image.shape[0]\n",
    "    y2=int(y1*(3/5))\n",
    "    x1=int((y1-intercept)/slope)\n",
    "    x2=int((y2-intercept)/slope)\n",
    "    return np.array([x1,y1,x2,y2])"
   ]
  },
  {
   "cell_type": "code",
   "execution_count": 7,
   "metadata": {},
   "outputs": [],
   "source": [
    "def rescale_frame(frame, percent=30):\n",
    "    width = int(frame.shape[1] * percent/ 100)\n",
    "    height = int(frame.shape[0] * percent/ 100)\n",
    "    dim = (width, height)\n",
    "    return cv.resize(frame, dim, interpolation =cv.INTER_AREA)"
   ]
  },
  {
   "cell_type": "code",
   "execution_count": 8,
   "metadata": {},
   "outputs": [],
   "source": [
    "cap=cv.VideoCapture('test2.mp4')\n",
    "while True:\n",
    "    ret,frame=cap.read()\n",
    "    #frame =rescale_frame(frame, percent=30)\n",
    "    if ret==True:\n",
    "        canny1=canny(frame)\n",
    "    croped_image=resion(canny1)\n",
    "    line=cv.HoughLinesP(croped_image,2,np.pi/180,100,np.array([]),minLineLength=40,maxLineGap=7)\n",
    "    averaged_line=averaged_slop_intercept(frame,line)\n",
    "    line_image=display_line(frame,averaged_line)\n",
    "    combo_image=cv.addWeighted(frame,0.8,line_image,1,1)\n",
    "    cv.imshow('result',combo_image)\n",
    "    if cv.waitKey(1)==ord('q'):\n",
    "        break\n",
    "cap.release()\n",
    "cv.destroyAllWindows()"
   ]
  },
  {
   "cell_type": "markdown",
   "metadata": {},
   "source": [
    "image=cv.imread('test_image.jpg')\n",
    "image1=np.copy(image)\n",
    "canny1=canny(image)\n",
    "croped_image=resion(canny1)\n",
    "line=cv.HoughLinesP(croped_image,2,np.pi/180,100,np.array([]),minLineLength=40,maxLineGap=5)\n",
    "averaged_line=averaged_slop_intercept(image1,line)\n",
    "line_image=display_line(image1,averaged_line)\n",
    "combo_image=cv.addWeighted(image1,0.8,line_image,1,1)\n",
    "cv.imshow('result',combo_image)\n",
    "cv.waitKey(0)\n",
    "cv.destroyAllWindows()"
   ]
  },
  {
   "cell_type": "code",
   "execution_count": null,
   "metadata": {},
   "outputs": [],
   "source": []
  }
 ],
 "metadata": {
  "kernelspec": {
   "display_name": "Python 3",
   "language": "python",
   "name": "python3"
  },
  "language_info": {
   "codemirror_mode": {
    "name": "ipython",
    "version": 3
   },
   "file_extension": ".py",
   "mimetype": "text/x-python",
   "name": "python",
   "nbconvert_exporter": "python",
   "pygments_lexer": "ipython3",
   "version": "3.8.6"
  }
 },
 "nbformat": 4,
 "nbformat_minor": 4
}
