{
 "cells": [
  {
   "cell_type": "code",
   "execution_count": 90,
   "metadata": {},
   "outputs": [],
   "source": [
    "import cv2 as cv\n",
    "import numpy as np\n",
    "import matplotlib.pyplot as plt\n",
    "def resion_of_interest(img,vertices):\n",
    "    mask=np.zeros_like(img)\n",
    "    #chanel_count=img.shape[2];\n",
    "    match_mask_color= 255\n",
    "    cv.fillPoly(mask,vertices,match_mask_color)\n",
    "    masked_image=cv.bitwise_and(img,mask)\n",
    "    return masked_image\n",
    "\n",
    "def image_convert(image):\n",
    "    gray_image=cv.cvtColor(image,cv.COLOR_BGR2GRAY)\n",
    "    canny=cv.Canny(gray_image,50,120)\n",
    "    return canny\n",
    "\n",
    "def draw_line(image,lines):\n",
    "    copy_image=np.copy(image)\n",
    "    line_image=np.zeros_like(image)\n",
    "    for line in lines:\n",
    "        x1,y1,x2,y2=line.reshape(4)\n",
    "        cv.line(line_image,(x1,y1),(x2,y2),(0,40,255),7)\n",
    "    img=cv.addWeighted(image,0.8,line_image,1,0.0)\n",
    "    return img\n",
    "def process(image):\n",
    "    #image=cv.imread('test_image.jpg')\n",
    "    canny1=image_convert(image)\n",
    "    height=image.shape[0]\n",
    "    width=image.shape[1]\n",
    "    region_interest=[(0,height),(width/2,height/2),(width,height)]\n",
    "    croped_image=resion_of_interest(canny1,np.array([region_interest],np.int32))\n",
    "    lines=cv.HoughLinesP(croped_image,2,np.pi/180,100,np.array([]),minLineLength=40,maxLineGap=100)\n",
    "    line_image=draw_line(image,lines)\n",
    "    return line_image\n",
    "\n",
    "cap=cv.VideoCapture('test2.mp4')\n",
    "while True:\n",
    "    ret,frame=cap.read()\n",
    "    frame=process(frame)\n",
    "    cv.imshow(\"result\",frame)\n",
    "    if cv.waitKey(1)==ord('q'):\n",
    "        break\n",
    "cap.release()\n",
    "cv.destroyAllWindows()"
   ]
  },
  {
   "cell_type": "code",
   "execution_count": null,
   "metadata": {},
   "outputs": [],
   "source": []
  }
 ],
 "metadata": {
  "kernelspec": {
   "display_name": "Python 3",
   "language": "python",
   "name": "python3"
  },
  "language_info": {
   "codemirror_mode": {
    "name": "ipython",
    "version": 3
   },
   "file_extension": ".py",
   "mimetype": "text/x-python",
   "name": "python",
   "nbconvert_exporter": "python",
   "pygments_lexer": "ipython3",
   "version": "3.8.6"
  }
 },
 "nbformat": 4,
 "nbformat_minor": 4
}
